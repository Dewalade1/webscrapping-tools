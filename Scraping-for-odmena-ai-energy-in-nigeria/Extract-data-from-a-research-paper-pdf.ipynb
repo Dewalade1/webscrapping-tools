{
 "cells": [
  {
   "cell_type": "markdown",
   "id": "552f47cc",
   "metadata": {},
   "source": [
    "# Extracting data from a pdf\n",
    "\n",
    "We are going to extract tabular data from the `exploration-of-solar-radiation-in-nigeria.pdf` file in the data folder. The package used here to extract the table is tabula-py. I learnt about using colab notebook [@Ayanlola2002](https://github.com/Ayanlola2002) posted on the [Odmena Nigeria Energy github repo](https://github.com/OmdenaAI/omdena-nigeria-energy). \n",
    "\n",
    "Thanks [@Ayanlola2002](https://github.com/Ayanlola2002) for your resource.\n",
    "\n",
    "**Note:**\n",
    "* You need to have the pdf data to run this code\n",
    "* You can also use this method to scrape web pages for tabular data by downloading the page as a pdf using your browser (use the print function) then scrape that pdf using tabular-py.\n",
    "\n",
    "## Step 1: download and import the package"
   ]
  },
  {
   "cell_type": "code",
   "execution_count": 1,
   "id": "c8280c92",
   "metadata": {
    "ExecuteTime": {
     "end_time": "2021-07-09T21:47:49.900425Z",
     "start_time": "2021-07-09T21:47:29.979859Z"
    }
   },
   "outputs": [
    {
     "name": "stdout",
     "output_type": "stream",
     "text": [
      "Collecting tabula-py\n",
      "  Downloading tabula_py-2.2.0-py3-none-any.whl (11.7 MB)\n",
      "Requirement already satisfied: pandas>=0.25.3 in c:\\users\\dewa\\anaconda3\\envs\\google-earth-engine-tutorial\\lib\\site-packages (from tabula-py) (1.3.0)\n",
      "Collecting distro\n",
      "  Using cached distro-1.5.0-py2.py3-none-any.whl (18 kB)\n",
      "Requirement already satisfied: numpy in c:\\users\\dewa\\anaconda3\\envs\\google-earth-engine-tutorial\\lib\\site-packages (from tabula-py) (1.21.0)\n",
      "Requirement already satisfied: python-dateutil>=2.7.3 in c:\\users\\dewa\\appdata\\roaming\\python\\python39\\site-packages (from pandas>=0.25.3->tabula-py) (2.8.1)\n",
      "Requirement already satisfied: pytz>=2017.3 in c:\\users\\dewa\\anaconda3\\envs\\google-earth-engine-tutorial\\lib\\site-packages (from pandas>=0.25.3->tabula-py) (2021.1)\n",
      "Requirement already satisfied: six>=1.5 in c:\\users\\dewa\\anaconda3\\envs\\google-earth-engine-tutorial\\lib\\site-packages (from python-dateutil>=2.7.3->pandas>=0.25.3->tabula-py) (1.16.0)\n",
      "Installing collected packages: distro, tabula-py\n",
      "Successfully installed distro-1.5.0 tabula-py-2.2.0\n"
     ]
    }
   ],
   "source": [
    "try: \n",
    "    import tabula\n",
    "except ModuleNotFoundError:\n",
    "    !pip install tabula-py\n",
    "    \n",
    "    import tabula"
   ]
  },
  {
   "cell_type": "markdown",
   "id": "a9296382",
   "metadata": {},
   "source": [
    "## Step 2: read your pdf using tabula\n",
    "\n",
    "Tabula would automatically scan for tables"
   ]
  },
  {
   "cell_type": "code",
   "execution_count": 4,
   "id": "a1bdb15a",
   "metadata": {
    "ExecuteTime": {
     "end_time": "2021-07-09T21:58:22.679038Z",
     "start_time": "2021-07-09T21:58:21.117531Z"
    }
   },
   "outputs": [
    {
     "name": "stdout",
     "output_type": "stream",
     "text": [
      "    Year Month Quarter     Ibadan    Sokoto  Port Harcourt\n",
      "0   2011   Jan      Q1  152.95440  216.6395       195.3404\n",
      "1   2011   Feb      Q1  167.18160  221.9066       173.1943\n",
      "2   2011   Mar      Q1  179.93890  244.9392       180.4480\n",
      "3   2011   Apr      Q2  162.21800  242.0993       182.9117\n",
      "4   2011   May      Q2  154.39700  232.1683       160.7612\n",
      "5   2011   Jun      Q2  126.53000  189.8827       131.3527\n",
      "6   2011   Jul      Q3   90.88166  168.1862       121.4725\n",
      "7   2011   Aug      Q3   91.89994  163.3494       114.3021\n",
      "8   2011   Sep      Q3  112.58800  218.2928       134.7724\n",
      "9   2011   Oct      Q4  141.07450  231.2348       141.5836\n",
      "10  2011   Nov      Q4  166.86530  259.2857       155.8608\n",
      "11  2011   Dec      Q4  186.76990  220.9247       188.9337\n",
      "12  2012   Jan      Q1  153.84540  233.9503       169.7561\n",
      "13  2012   Feb      Q1  149.98740  236.8866       148.0371\n",
      "14  2012   Mar      Q1  171.49560  255.0796       157.5473\n",
      "15  2012   Apr      Q2  168.66280  254.1561       155.8032\n",
      "16  2012   May      Q2  140.26830  228.6467       175.9798\n",
      "17  2012   Jun      Q2  106.23080  198.5635       155.5539\n",
      "18  2012   Jul      Q3   98.30663  170.3925       123.2970\n",
      "19  2012   Aug      Q3   84.72954  163.9434       132.4191\n",
      "20  2012   Sep      Q3  102.24120  237.7151       139.4198\n",
      "21  2012   Oct      Q4  148.66920  225.5070       169.9258\n",
      "22  2012   Nov      Q4  149.41590  235.8298       164.1032\n",
      "23  2012   Dec      Q4  156.13660  252.3218       183.3756\n",
      "24  2013   Jan      Q1  143.91720  241.5025       190.2066\n",
      "25  2013   Feb      Q1  152.47860  263.7138       182.1664\n",
      "26  2013   Mar      Q1  170.13790  274.2572       190.2914\n",
      "27  2013   Apr      Q2  153.09870  246.2206       190.1896\n",
      "28  2013   May      Q2  152.31800  266.2807       155.0758\n",
      "29  2013   Jun      Q2  122.49650  238.1973       118.5945\n",
      "30  2013   Jul      Q3   90.37251  204.8868       104.1193\n",
      "31  2013   Aug      Q3   91.51808  158.5125       104.4163\n",
      "32  2013   Sep      Q3  123.54870  220.8356       103.7318\n",
      "33  2013   Oct      Q4  147.52360  196.0405       160.1248\n",
      "34  2013   Nov      Q4  159.23670  215.5635       140.6912\n",
      "35  2013   Dec      Q4  161.10070  241.7571       180.2359\n",
      "36  2014   Jan      Q1  151.51190  260.3407       187.0669\n",
      "37  2014   Feb      Q1  165.44350  265.0291       185.4546\n",
      "38  2014   Mar      Q1  161.69470  283.3369       149.3904\n",
      "39  2014   Apr      Q2  177.25600  273.8853       173.3540\n",
      "40  2014   May      Q2  166.40420  245.7454       155.1183\n",
      "41  2014   Jun      Q2  135.69310  251.1309       121.3127\n",
      "42  2014   Jul      Q3   99.66434  213.1179       105.4346\n",
      "43  2014   Aug      Q3   73.27386  168.3135       109.7623\n",
      "44  2014   Sep      Q3  109.82590  233.2870       103.2934\n",
      "45  2014   Oct      Q4  136.83160  265.9048       159.7854\n",
      "46  2014   Nov      Q4  153.53710  289.4494       132.2734\n",
      "47  2014   Dec      Q4  170.68950  273.8075       168.4408\n",
      "48  2015   Jan      Q1  179.51460  253.1279       188.5943\n",
      "49  2015   Feb      Q1  179.72370  308.7152       166.6179\n",
      "50  2015   Mar      Q1  175.39900  269.7174       169.0348\n",
      "51  2015   Apr      Q2  177.21220  293.1761       157.4829\n",
      "52  2015   May      Q2  178.24180  274.8512       145.4870\n",
      "53  2015   Jun      Q2  131.35270  256.4359       124.2063\n",
      "54  2015   Jul      Q3  106.96200  227.5436       101.6585\n",
      "55  2015   Aug      Q3  105.13760  201.4077       112.5626\n",
      "56  2015   Sep      Q3  110.39590  218.6873       128.3276\n",
      "57  2015   Oct      Q4  132.84340  244.4301       156.8578\n",
      "58  2015   Nov      Q4  152.70410  250.2541       187.9975\n",
      "59  2015   Dec      Q4  172.30180  209.2145       231.9561\n",
      "\n"
     ]
    }
   ],
   "source": [
    "data = \"./data/exploration-of-solar-radiation-in-nigeria.pdf\"\n",
    "\n",
    "result = tabula.read_pdf(data, pages=7, multiple_tables=True)\n",
    "for table in result:\n",
    "    print(table)\n",
    "    print('')"
   ]
  },
  {
   "cell_type": "markdown",
   "id": "f9be3363",
   "metadata": {},
   "source": [
    "## Step 3: Write into a file using tabula's convert_into method\n",
    "\n",
    "Make sure to create a results folder before running the next cell block"
   ]
  },
  {
   "cell_type": "code",
   "execution_count": 7,
   "id": "fa45e184",
   "metadata": {
    "ExecuteTime": {
     "end_time": "2021-07-09T22:06:51.532851Z",
     "start_time": "2021-07-09T22:06:50.152858Z"
    }
   },
   "outputs": [],
   "source": [
    "tabula.convert_into(data, './results/quaterly-solar-radiance-ibadan-sokoto-ph.csv', output_format='csv', pages=7)"
   ]
  },
  {
   "cell_type": "markdown",
   "id": "92743c5b",
   "metadata": {},
   "source": [
    "# Conclusion\n",
    "\n",
    "Tabular data can be scrapped from a PDF using the tabula package in python."
   ]
  }
 ],
 "metadata": {
  "kernelspec": {
   "display_name": "Python 3 (ipykernel)",
   "language": "python",
   "name": "python3"
  },
  "language_info": {
   "codemirror_mode": {
    "name": "ipython",
    "version": 3
   },
   "file_extension": ".py",
   "mimetype": "text/x-python",
   "name": "python",
   "nbconvert_exporter": "python",
   "pygments_lexer": "ipython3",
   "version": "3.9.6"
  },
  "latex_envs": {
   "LaTeX_envs_menu_present": true,
   "autoclose": true,
   "autocomplete": true,
   "bibliofile": "biblio.bib",
   "cite_by": "apalike",
   "current_citInitial": 1,
   "eqLabelWithNumbers": true,
   "eqNumInitial": 1,
   "hotkeys": {
    "equation": "Ctrl-E",
    "itemize": "Ctrl-I"
   },
   "labels_anchors": false,
   "latex_user_defs": false,
   "report_style_numbering": true,
   "user_envs_cfg": true
  },
  "nbTranslate": {
   "displayLangs": [
    "*"
   ],
   "hotkey": "alt-t",
   "langInMainMenu": true,
   "sourceLang": "en",
   "targetLang": "fr",
   "useGoogleTranslate": true
  },
  "toc": {
   "base_numbering": 1,
   "nav_menu": {},
   "number_sections": true,
   "sideBar": true,
   "skip_h1_title": false,
   "title_cell": "Table of Contents",
   "title_sidebar": "Contents",
   "toc_cell": false,
   "toc_position": {},
   "toc_section_display": true,
   "toc_window_display": false
  },
  "varInspector": {
   "cols": {
    "lenName": 16,
    "lenType": 16,
    "lenVar": 40
   },
   "kernels_config": {
    "python": {
     "delete_cmd_postfix": "",
     "delete_cmd_prefix": "del ",
     "library": "var_list.py",
     "varRefreshCmd": "print(var_dic_list())"
    },
    "r": {
     "delete_cmd_postfix": ") ",
     "delete_cmd_prefix": "rm(",
     "library": "var_list.r",
     "varRefreshCmd": "cat(var_dic_list()) "
    }
   },
   "types_to_exclude": [
    "module",
    "function",
    "builtin_function_or_method",
    "instance",
    "_Feature"
   ],
   "window_display": false
  }
 },
 "nbformat": 4,
 "nbformat_minor": 5
}
