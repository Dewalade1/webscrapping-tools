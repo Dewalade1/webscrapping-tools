{
 "cells": [
  {
   "cell_type": "markdown",
   "id": "4f13d0ee",
   "metadata": {},
   "source": [
    "# Cleaning Scrapped world population data\n",
    "\n",
    "I will be cleaning the world population data i scrapped"
   ]
  },
  {
   "cell_type": "code",
   "execution_count": 1,
   "id": "4551429f",
   "metadata": {
    "ExecuteTime": {
     "end_time": "2021-07-10T14:46:24.399582Z",
     "start_time": "2021-07-10T14:46:24.000967Z"
    }
   },
   "outputs": [],
   "source": [
    "try: \n",
    "    import pandas as pd \n",
    "except ModuleNotFoundError:\n",
    "    !pip install pandas\n",
    "    \n",
    "    import pandas as pd "
   ]
  },
  {
   "cell_type": "code",
   "execution_count": 155,
   "id": "56c36679",
   "metadata": {
    "ExecuteTime": {
     "end_time": "2021-07-11T22:12:01.501007Z",
     "start_time": "2021-07-11T22:12:01.483005Z"
    },
    "scrolled": true
   },
   "outputs": [
    {
     "name": "stdout",
     "output_type": "stream",
     "text": [
      "  Country (or dependency) Population (2020) Yearly Change  Net Change  \\\n",
      "0                   China     1,439,323,776        0.39 %   5,540,090   \n",
      "1                   India     1,380,004,385        0.99 %  13,586,631   \n",
      "2           United States       331,002,651        0.59 %   1,937,734   \n",
      "3               Indonesia       273,523,615        1.07 %   2,898,047   \n",
      "4                Pakistan       220,892,340        2.00 %   4,327,022   \n",
      "\n",
      "  Density (P/Km²) Land Area (Km²) Migrants (net) Fert. Rate Med. Age  \\\n",
      "0             153       9,388,211       -348,399        1.7       38   \n",
      "1             464       2,973,190       -532,687        2.2       28   \n",
      "2              36       9,147,420        954,806        1.8       38   \n",
      "3             151       1,811,570        -98,955        2.3       30   \n",
      "4             287         770,880       -233,379        3.6       23   \n",
      "\n",
      "  Urban Pop % World Share  \n",
      "0        61 %     18.47 %  \n",
      "1        35 %     17.70 %  \n",
      "2        83 %      4.25 %  \n",
      "3        56 %      3.51 %  \n",
      "4        35 %      2.83 %  \n"
     ]
    }
   ],
   "source": [
    "worldPopData = pd.read_csv('./results/world-population-data-worldmeter.csv')\n",
    "\n",
    "print(worldPopData.head(5))"
   ]
  },
  {
   "cell_type": "code",
   "execution_count": 156,
   "id": "e045a363",
   "metadata": {
    "ExecuteTime": {
     "end_time": "2021-07-11T22:12:02.382768Z",
     "start_time": "2021-07-11T22:12:02.364771Z"
    }
   },
   "outputs": [
    {
     "name": "stdout",
     "output_type": "stream",
     "text": [
      "    Country (or dependency) Population (2020) Yearly Change Net Change  \\\n",
      "230              Montserrat             4,992        0.06 %          3   \n",
      "231        Falkland Islands             3,480        3.05 %        103   \n",
      "232                    Niue             1,626        0.68 %         11   \n",
      "233                 Tokelau             1,357        1.27 %         17   \n",
      "234                Holy See               801        0.25 %          2   \n",
      "\n",
      "    Density (P/Km²) Land Area (Km²) Migrants (net) Fert. Rate Med. Age  \\\n",
      "230              50             100            NaN       N.A.     N.A.   \n",
      "231               0          12,170            NaN       N.A.     N.A.   \n",
      "232               6             260            NaN       N.A.     N.A.   \n",
      "233             136              10            NaN       N.A.     N.A.   \n",
      "234           2,003               0            NaN       N.A.     N.A.   \n",
      "\n",
      "    Urban Pop % World Share  \n",
      "230        10 %      0.00 %  \n",
      "231        66 %      0.00 %  \n",
      "232        46 %      0.00 %  \n",
      "233         0 %      0.00 %  \n",
      "234        N.A.      0.00 %  \n"
     ]
    }
   ],
   "source": [
    "print(worldPopData.tail(5))"
   ]
  },
  {
   "cell_type": "code",
   "execution_count": 157,
   "id": "56d695cd",
   "metadata": {
    "ExecuteTime": {
     "end_time": "2021-07-11T22:12:03.049772Z",
     "start_time": "2021-07-11T22:12:03.022767Z"
    }
   },
   "outputs": [
    {
     "name": "stdout",
     "output_type": "stream",
     "text": [
      "<class 'pandas.core.frame.DataFrame'>\n",
      "RangeIndex: 235 entries, 0 to 234\n",
      "Data columns (total 11 columns):\n",
      " #   Column                   Non-Null Count  Dtype \n",
      "---  ------                   --------------  ----- \n",
      " 0   Country (or dependency)  235 non-null    object\n",
      " 1   Population (2020)        235 non-null    object\n",
      " 2   Yearly Change            235 non-null    object\n",
      " 3   Net Change               235 non-null    object\n",
      " 4   Density (P/Km²)          235 non-null    object\n",
      " 5   Land Area (Km²)          235 non-null    object\n",
      " 6   Migrants (net)           201 non-null    object\n",
      " 7   Fert. Rate               235 non-null    object\n",
      " 8   Med. Age                 235 non-null    object\n",
      " 9   Urban Pop %              235 non-null    object\n",
      " 10  World Share              235 non-null    object\n",
      "dtypes: object(11)\n",
      "memory usage: 20.3+ KB\n"
     ]
    }
   ],
   "source": [
    "worldPopData.info()"
   ]
  },
  {
   "cell_type": "code",
   "execution_count": 158,
   "id": "3c46db52",
   "metadata": {
    "ExecuteTime": {
     "end_time": "2021-07-11T22:12:03.730097Z",
     "start_time": "2021-07-11T22:12:03.679097Z"
    }
   },
   "outputs": [
    {
     "data": {
      "text/html": [
       "<div>\n",
       "<style scoped>\n",
       "    .dataframe tbody tr th:only-of-type {\n",
       "        vertical-align: middle;\n",
       "    }\n",
       "\n",
       "    .dataframe tbody tr th {\n",
       "        vertical-align: top;\n",
       "    }\n",
       "\n",
       "    .dataframe thead th {\n",
       "        text-align: right;\n",
       "    }\n",
       "</style>\n",
       "<table border=\"1\" class=\"dataframe\">\n",
       "  <thead>\n",
       "    <tr style=\"text-align: right;\">\n",
       "      <th></th>\n",
       "      <th>Country (or dependency)</th>\n",
       "      <th>Population (2020)</th>\n",
       "      <th>Yearly Change</th>\n",
       "      <th>Net Change</th>\n",
       "      <th>Density (P/Km²)</th>\n",
       "      <th>Land Area (Km²)</th>\n",
       "      <th>Migrants (net)</th>\n",
       "      <th>Fert. Rate</th>\n",
       "      <th>Med. Age</th>\n",
       "      <th>Urban Pop %</th>\n",
       "      <th>World Share</th>\n",
       "    </tr>\n",
       "  </thead>\n",
       "  <tbody>\n",
       "    <tr>\n",
       "      <th>0</th>\n",
       "      <td>China</td>\n",
       "      <td>1,439,323,776</td>\n",
       "      <td>0.39 %</td>\n",
       "      <td>5,540,090</td>\n",
       "      <td>153</td>\n",
       "      <td>9,388,211</td>\n",
       "      <td>-348,399</td>\n",
       "      <td>1.7</td>\n",
       "      <td>38</td>\n",
       "      <td>61 %</td>\n",
       "      <td>18.47 %</td>\n",
       "    </tr>\n",
       "    <tr>\n",
       "      <th>1</th>\n",
       "      <td>India</td>\n",
       "      <td>1,380,004,385</td>\n",
       "      <td>0.99 %</td>\n",
       "      <td>13,586,631</td>\n",
       "      <td>464</td>\n",
       "      <td>2,973,190</td>\n",
       "      <td>-532,687</td>\n",
       "      <td>2.2</td>\n",
       "      <td>28</td>\n",
       "      <td>35 %</td>\n",
       "      <td>17.70 %</td>\n",
       "    </tr>\n",
       "    <tr>\n",
       "      <th>2</th>\n",
       "      <td>United States</td>\n",
       "      <td>331,002,651</td>\n",
       "      <td>0.59 %</td>\n",
       "      <td>1,937,734</td>\n",
       "      <td>36</td>\n",
       "      <td>9,147,420</td>\n",
       "      <td>954,806</td>\n",
       "      <td>1.8</td>\n",
       "      <td>38</td>\n",
       "      <td>83 %</td>\n",
       "      <td>4.25 %</td>\n",
       "    </tr>\n",
       "    <tr>\n",
       "      <th>3</th>\n",
       "      <td>Indonesia</td>\n",
       "      <td>273,523,615</td>\n",
       "      <td>1.07 %</td>\n",
       "      <td>2,898,047</td>\n",
       "      <td>151</td>\n",
       "      <td>1,811,570</td>\n",
       "      <td>-98,955</td>\n",
       "      <td>2.3</td>\n",
       "      <td>30</td>\n",
       "      <td>56 %</td>\n",
       "      <td>3.51 %</td>\n",
       "    </tr>\n",
       "    <tr>\n",
       "      <th>4</th>\n",
       "      <td>Pakistan</td>\n",
       "      <td>220,892,340</td>\n",
       "      <td>2.00 %</td>\n",
       "      <td>4,327,022</td>\n",
       "      <td>287</td>\n",
       "      <td>770,880</td>\n",
       "      <td>-233,379</td>\n",
       "      <td>3.6</td>\n",
       "      <td>23</td>\n",
       "      <td>35 %</td>\n",
       "      <td>2.83 %</td>\n",
       "    </tr>\n",
       "    <tr>\n",
       "      <th>...</th>\n",
       "      <td>...</td>\n",
       "      <td>...</td>\n",
       "      <td>...</td>\n",
       "      <td>...</td>\n",
       "      <td>...</td>\n",
       "      <td>...</td>\n",
       "      <td>...</td>\n",
       "      <td>...</td>\n",
       "      <td>...</td>\n",
       "      <td>...</td>\n",
       "      <td>...</td>\n",
       "    </tr>\n",
       "    <tr>\n",
       "      <th>230</th>\n",
       "      <td>Montserrat</td>\n",
       "      <td>4,992</td>\n",
       "      <td>0.06 %</td>\n",
       "      <td>3</td>\n",
       "      <td>50</td>\n",
       "      <td>100</td>\n",
       "      <td>&lt;NA&gt;</td>\n",
       "      <td>N.A.</td>\n",
       "      <td>N.A.</td>\n",
       "      <td>10 %</td>\n",
       "      <td>0.00 %</td>\n",
       "    </tr>\n",
       "    <tr>\n",
       "      <th>231</th>\n",
       "      <td>Falkland Islands</td>\n",
       "      <td>3,480</td>\n",
       "      <td>3.05 %</td>\n",
       "      <td>103</td>\n",
       "      <td>0</td>\n",
       "      <td>12,170</td>\n",
       "      <td>&lt;NA&gt;</td>\n",
       "      <td>N.A.</td>\n",
       "      <td>N.A.</td>\n",
       "      <td>66 %</td>\n",
       "      <td>0.00 %</td>\n",
       "    </tr>\n",
       "    <tr>\n",
       "      <th>232</th>\n",
       "      <td>Niue</td>\n",
       "      <td>1,626</td>\n",
       "      <td>0.68 %</td>\n",
       "      <td>11</td>\n",
       "      <td>6</td>\n",
       "      <td>260</td>\n",
       "      <td>&lt;NA&gt;</td>\n",
       "      <td>N.A.</td>\n",
       "      <td>N.A.</td>\n",
       "      <td>46 %</td>\n",
       "      <td>0.00 %</td>\n",
       "    </tr>\n",
       "    <tr>\n",
       "      <th>233</th>\n",
       "      <td>Tokelau</td>\n",
       "      <td>1,357</td>\n",
       "      <td>1.27 %</td>\n",
       "      <td>17</td>\n",
       "      <td>136</td>\n",
       "      <td>10</td>\n",
       "      <td>&lt;NA&gt;</td>\n",
       "      <td>N.A.</td>\n",
       "      <td>N.A.</td>\n",
       "      <td>0 %</td>\n",
       "      <td>0.00 %</td>\n",
       "    </tr>\n",
       "    <tr>\n",
       "      <th>234</th>\n",
       "      <td>Holy See</td>\n",
       "      <td>801</td>\n",
       "      <td>0.25 %</td>\n",
       "      <td>2</td>\n",
       "      <td>2,003</td>\n",
       "      <td>0</td>\n",
       "      <td>&lt;NA&gt;</td>\n",
       "      <td>N.A.</td>\n",
       "      <td>N.A.</td>\n",
       "      <td>N.A.</td>\n",
       "      <td>0.00 %</td>\n",
       "    </tr>\n",
       "  </tbody>\n",
       "</table>\n",
       "<p>235 rows × 11 columns</p>\n",
       "</div>"
      ],
      "text/plain": [
       "    Country (or dependency) Population (2020) Yearly Change  Net Change  \\\n",
       "0                     China     1,439,323,776        0.39 %   5,540,090   \n",
       "1                     India     1,380,004,385        0.99 %  13,586,631   \n",
       "2             United States       331,002,651        0.59 %   1,937,734   \n",
       "3                 Indonesia       273,523,615        1.07 %   2,898,047   \n",
       "4                  Pakistan       220,892,340        2.00 %   4,327,022   \n",
       "..                      ...               ...           ...         ...   \n",
       "230              Montserrat             4,992        0.06 %           3   \n",
       "231        Falkland Islands             3,480        3.05 %         103   \n",
       "232                    Niue             1,626        0.68 %          11   \n",
       "233                 Tokelau             1,357        1.27 %          17   \n",
       "234                Holy See               801        0.25 %           2   \n",
       "\n",
       "    Density (P/Km²) Land Area (Km²) Migrants (net) Fert. Rate Med. Age  \\\n",
       "0               153       9,388,211       -348,399        1.7       38   \n",
       "1               464       2,973,190       -532,687        2.2       28   \n",
       "2                36       9,147,420        954,806        1.8       38   \n",
       "3               151       1,811,570        -98,955        2.3       30   \n",
       "4               287         770,880       -233,379        3.6       23   \n",
       "..              ...             ...            ...        ...      ...   \n",
       "230              50             100           <NA>       N.A.     N.A.   \n",
       "231               0          12,170           <NA>       N.A.     N.A.   \n",
       "232               6             260           <NA>       N.A.     N.A.   \n",
       "233             136              10           <NA>       N.A.     N.A.   \n",
       "234           2,003               0           <NA>       N.A.     N.A.   \n",
       "\n",
       "    Urban Pop % World Share  \n",
       "0          61 %     18.47 %  \n",
       "1          35 %     17.70 %  \n",
       "2          83 %      4.25 %  \n",
       "3          56 %      3.51 %  \n",
       "4          35 %      2.83 %  \n",
       "..          ...         ...  \n",
       "230        10 %      0.00 %  \n",
       "231        66 %      0.00 %  \n",
       "232        46 %      0.00 %  \n",
       "233         0 %      0.00 %  \n",
       "234        N.A.      0.00 %  \n",
       "\n",
       "[235 rows x 11 columns]"
      ]
     },
     "execution_count": 158,
     "metadata": {},
     "output_type": "execute_result"
    }
   ],
   "source": [
    "worldPopData = worldPopData.convert_dtypes()\n",
    "\n",
    "worldPopData"
   ]
  },
  {
   "cell_type": "code",
   "execution_count": 159,
   "id": "7afbd8c3",
   "metadata": {
    "ExecuteTime": {
     "end_time": "2021-07-11T22:12:04.298100Z",
     "start_time": "2021-07-11T22:12:04.283094Z"
    }
   },
   "outputs": [
    {
     "name": "stdout",
     "output_type": "stream",
     "text": [
      "<class 'pandas.core.frame.DataFrame'>\n",
      "RangeIndex: 235 entries, 0 to 234\n",
      "Data columns (total 11 columns):\n",
      " #   Column                   Non-Null Count  Dtype \n",
      "---  ------                   --------------  ----- \n",
      " 0   Country (or dependency)  235 non-null    string\n",
      " 1   Population (2020)        235 non-null    string\n",
      " 2   Yearly Change            235 non-null    string\n",
      " 3   Net Change               235 non-null    string\n",
      " 4   Density (P/Km²)          235 non-null    string\n",
      " 5   Land Area (Km²)          235 non-null    string\n",
      " 6   Migrants (net)           201 non-null    string\n",
      " 7   Fert. Rate               235 non-null    string\n",
      " 8   Med. Age                 235 non-null    string\n",
      " 9   Urban Pop %              235 non-null    string\n",
      " 10  World Share              235 non-null    string\n",
      "dtypes: string(11)\n",
      "memory usage: 20.3 KB\n"
     ]
    }
   ],
   "source": [
    "worldPopData.info()"
   ]
  },
  {
   "cell_type": "code",
   "execution_count": 160,
   "id": "f3263fe9",
   "metadata": {
    "ExecuteTime": {
     "end_time": "2021-07-11T22:12:06.405286Z",
     "start_time": "2021-07-11T22:12:06.392242Z"
    }
   },
   "outputs": [
    {
     "data": {
      "text/plain": [
       "Index(['Country (or dependency)', 'Population (2020)', 'Yearly Change',\n",
       "       'Net Change', 'Density (P/Km²)', 'Land Area (Km²)', 'Migrants (net)',\n",
       "       'Fert. Rate', 'Med. Age', 'Urban Pop %', 'World Share'],\n",
       "      dtype='object')"
      ]
     },
     "execution_count": 160,
     "metadata": {},
     "output_type": "execute_result"
    }
   ],
   "source": [
    "worldPopData.columns"
   ]
  },
  {
   "cell_type": "code",
   "execution_count": 163,
   "id": "0ca54fd5",
   "metadata": {
    "ExecuteTime": {
     "end_time": "2021-07-11T22:12:29.582507Z",
     "start_time": "2021-07-11T22:12:29.553493Z"
    }
   },
   "outputs": [
    {
     "name": "stdout",
     "output_type": "stream",
     "text": [
      "    Country (or dependency) Population (2020) Yearly Change Net Change  \\\n",
      "230              Montserrat              4992         0.06           3   \n",
      "231        Falkland Islands              3480         3.05         103   \n",
      "232                    Niue              1626         0.68          11   \n",
      "233                 Tokelau              1357         1.27          17   \n",
      "234                Holy See               801         0.25           2   \n",
      "\n",
      "    Density (P/Km²) Land Area (Km²) Migrants (net) Fert. Rate Med. Age  \\\n",
      "230              50             100           <NA>       N.A.     N.A.   \n",
      "231               0           12170           <NA>       N.A.     N.A.   \n",
      "232               6             260           <NA>       N.A.     N.A.   \n",
      "233             136              10           <NA>       N.A.     N.A.   \n",
      "234            2003               0           <NA>       N.A.     N.A.   \n",
      "\n",
      "    Urban Pop % World Share  \n",
      "230         10        0.00   \n",
      "231         66        0.00   \n",
      "232         46        0.00   \n",
      "233          0        0.00   \n",
      "234        N.A.       0.00   \n"
     ]
    }
   ],
   "source": [
    "for column in worldPopData:\n",
    "    worldPopData[column].replace(r'(,)', '', regex=True,inplace = True)\n",
    "    worldPopData[column].replace(r'(%)', '', regex=True,inplace = True)\n",
    "print(worldPopData.tail())"
   ]
  },
  {
   "cell_type": "code",
   "execution_count": 166,
   "id": "404a45b0",
   "metadata": {
    "ExecuteTime": {
     "end_time": "2021-07-11T22:15:09.481018Z",
     "start_time": "2021-07-11T22:15:09.431963Z"
    }
   },
   "outputs": [
    {
     "name": "stdout",
     "output_type": "stream",
     "text": [
      "China                      1\n",
      "Egypt                      1\n",
      "South Korea                1\n",
      "United States              1\n",
      "Indonesia                  1\n",
      "                          ..\n",
      "Saint Pierre & Miquelon    1\n",
      "Montserrat                 1\n",
      "Falkland Islands           1\n",
      "Niue                       1\n",
      "Holy See                   1\n",
      "Name: Country (or dependency), Length: 235, dtype: Int64\n",
      "1439323776    1\n",
      "102334404     1\n",
      "51269185      1\n",
      "331002651     1\n",
      "273523615     1\n",
      "             ..\n",
      "5794          1\n",
      "4992          1\n",
      "3480          1\n",
      "1626          1\n",
      "801           1\n",
      "Name: Population (2020), Length: 235, dtype: Int64\n",
      "1.48      4\n",
      "0.67      3\n",
      "0.97      3\n",
      "0.25      3\n",
      "0.32      3\n",
      "         ..\n",
      "1.57      1\n",
      "0.62      1\n",
      "0.16      1\n",
      "-0.36     1\n",
      "1.27      1\n",
      "Name: Yearly Change, Length: 174, dtype: Int64\n",
      "68         2\n",
      "1464463    1\n",
      "543448     1\n",
      "43877      1\n",
      "1937734    1\n",
      "          ..\n",
      "-28        1\n",
      "3          1\n",
      "103        1\n",
      "11         1\n",
      "2          1\n",
      "Name: Net Change, Length: 234, dtype: Int64\n",
      "25      8\n",
      "4       6\n",
      "16      5\n",
      "18      5\n",
      "83      5\n",
      "       ..\n",
      "149     1\n",
      "276     1\n",
      "125     1\n",
      "164     1\n",
      "2003    1\n",
      "Name: Density (P/Km²), Length: 165, dtype: Int64\n",
      "460      3\n",
      "10       2\n",
      "180      2\n",
      "30       2\n",
      "240      2\n",
      "        ..\n",
      "230      1\n",
      "100      1\n",
      "12170    1\n",
      "350      1\n",
      "0        1\n",
      "Name: Land Area (Km²), Length: 226, dtype: Int64\n",
      "NaN       34\n",
      "0          5\n",
      "-10000     4\n",
      "-800       4\n",
      "-4000      4\n",
      "          ..\n",
      "5582       1\n",
      "-480       1\n",
      "-1600      1\n",
      "-79        1\n",
      "10220      1\n",
      "Name: Migrants (net), Length: 159, dtype: Int64\n",
      "N.A.    34\n",
      "1.8     14\n",
      "1.5     12\n",
      "2.1     10\n",
      "1.9     10\n",
      "1.7     10\n",
      "2.3     10\n",
      "1.6      9\n",
      "2.0      9\n",
      "2.4      9\n",
      "1.3      8\n",
      "1.4      7\n",
      "2.8      7\n",
      "3.6      6\n",
      "2.2      6\n",
      "4.4      5\n",
      "2.9      5\n",
      "4.7      5\n",
      "2.5      5\n",
      "4.1      4\n",
      "3.0      4\n",
      "4.6      4\n",
      "1.2      4\n",
      "3.7      3\n",
      "4.9      3\n",
      "4.3      3\n",
      "3.8      2\n",
      "3.9      2\n",
      "4.5      2\n",
      "3.4      2\n",
      "5.9      1\n",
      "2.6      1\n",
      "3.3      1\n",
      "6.0      1\n",
      "3.5      1\n",
      "1.1      1\n",
      "5.0      1\n",
      "3.1      1\n",
      "7.0      1\n",
      "5.2      1\n",
      "5.4      1\n",
      "5.8      1\n",
      "4.0      1\n",
      "4.2      1\n",
      "5.5      1\n",
      "6.1      1\n",
      "5.3      1\n",
      "2.7      1\n",
      "3.2      1\n",
      "4.8      1\n",
      "5.6      1\n",
      "Name: Fert. Rate, dtype: Int64\n",
      "N.A.    34\n",
      "19      14\n",
      "28      12\n",
      "43      11\n",
      "32      11\n",
      "42      10\n",
      "18      10\n",
      "20       9\n",
      "30       8\n",
      "40       7\n",
      "22       7\n",
      "26       7\n",
      "38       7\n",
      "24       6\n",
      "17       6\n",
      "34       6\n",
      "31       6\n",
      "41       5\n",
      "33       5\n",
      "44       5\n",
      "45       5\n",
      "29       5\n",
      "21       5\n",
      "23       4\n",
      "25       4\n",
      "27       4\n",
      "37       4\n",
      "36       4\n",
      "35       3\n",
      "46       3\n",
      "39       3\n",
      "47       2\n",
      "15       1\n",
      "16       1\n",
      "48       1\n",
      "Name: Med. Age, dtype: Int64\n",
      "N.A.    13\n",
      "88       7\n",
      "57       7\n",
      "87       6\n",
      "63       6\n",
      "        ..\n",
      "19       1\n",
      "94       1\n",
      "29       1\n",
      "65       1\n",
      "10       1\n",
      "Name: Urban Pop %, Length: 81, dtype: Int64\n",
      "0.00     56\n",
      "0.01     21\n",
      "0.03      9\n",
      "0.04      8\n",
      "0.07      8\n",
      "         ..\n",
      "1.62      1\n",
      "1.87      1\n",
      "0.90      1\n",
      "2.11      1\n",
      "0.45      1\n",
      "Name: World Share, Length: 74, dtype: Int64\n"
     ]
    }
   ],
   "source": [
    "for column in worldPopData:\n",
    "    print(worldPopData[column].value_counts(dropna=False))"
   ]
  },
  {
   "cell_type": "code",
   "execution_count": null,
   "id": "84855b40",
   "metadata": {},
   "outputs": [],
   "source": [
    "for column in"
   ]
  },
  {
   "cell_type": "code",
   "execution_count": 162,
   "id": "8f4f1832",
   "metadata": {
    "ExecuteTime": {
     "end_time": "2021-07-11T22:12:16.747945Z",
     "start_time": "2021-07-11T22:12:16.726943Z"
    },
    "scrolled": true
   },
   "outputs": [
    {
     "data": {
      "text/plain": [
       "Country (or dependency)     0\n",
       "Population (2020)           0\n",
       "Yearly Change               0\n",
       "Net Change                  0\n",
       "Density (P/Km²)             0\n",
       "Land Area (Km²)             0\n",
       "Migrants (net)             34\n",
       "Fert. Rate                  0\n",
       "Med. Age                    0\n",
       "Urban Pop %                 0\n",
       "World Share                 0\n",
       "dtype: int64"
      ]
     },
     "execution_count": 162,
     "metadata": {},
     "output_type": "execute_result"
    }
   ],
   "source": [
    "worldPopData.isnull().sum()"
   ]
  },
  {
   "cell_type": "code",
   "execution_count": 53,
   "id": "37c3e124",
   "metadata": {
    "ExecuteTime": {
     "end_time": "2021-07-10T20:42:25.770229Z",
     "start_time": "2021-07-10T20:42:25.762226Z"
    }
   },
   "outputs": [
    {
     "name": "stdout",
     "output_type": "stream",
     "text": [
      "Migrants column: \n",
      "0      -348,399\n",
      "1      -532,687\n",
      "2       954,806\n",
      "3       -98,955\n",
      "4      -233,379\n",
      "         ...   \n",
      "230        <NA>\n",
      "231        <NA>\n",
      "232        <NA>\n",
      "233        <NA>\n",
      "234        <NA>\n",
      "Name: Migrants (net), Length: 235, dtype: object\n"
     ]
    }
   ],
   "source": [
    "migrants = worldPopData['Migrants (net)']\n",
    "\n",
    "print(f'Migrants column: \\n{migrants}')"
   ]
  },
  {
   "cell_type": "code",
   "execution_count": 54,
   "id": "257d7240",
   "metadata": {
    "ExecuteTime": {
     "end_time": "2021-07-10T20:42:30.297199Z",
     "start_time": "2021-07-10T20:42:30.280197Z"
    }
   },
   "outputs": [
    {
     "name": "stdout",
     "output_type": "stream",
     "text": [
      "Non-null immigrant data: \n",
      "0      -348,399\n",
      "1      -532,687\n",
      "2       954,806\n",
      "3       -98,955\n",
      "4      -233,379\n",
      "         ...   \n",
      "230        <NA>\n",
      "231        <NA>\n",
      "232        <NA>\n",
      "233        <NA>\n",
      "234        <NA>\n",
      "Name: Migrants (net), Length: 235, dtype: object\n"
     ]
    }
   ],
   "source": [
    "non_null_migrants = migrants[migrants.notnull() == True]\n",
    "\n",
    "print(f'Non-null immigrant data: \\n{non_null_migrants}')"
   ]
  },
  {
   "cell_type": "code",
   "execution_count": 116,
   "id": "b23e93e7",
   "metadata": {
    "ExecuteTime": {
     "end_time": "2021-07-11T21:59:20.669792Z",
     "start_time": "2021-07-11T21:59:20.654790Z"
    }
   },
   "outputs": [
    {
     "data": {
      "text/plain": [
       "0      -348399\n",
       "1      -532687\n",
       "2       954806\n",
       "3       -98955\n",
       "4      -233379\n",
       "        ...   \n",
       "230       <NA>\n",
       "231       <NA>\n",
       "232       <NA>\n",
       "233       <NA>\n",
       "234       <NA>\n",
       "Name: Migrants (net), Length: 235, dtype: object"
      ]
     },
     "execution_count": 116,
     "metadata": {},
     "output_type": "execute_result"
    }
   ],
   "source": [
    "non_null_migrants.replace(r'(,)', '', regex=True,inplace = True)\n",
    "\n",
    "non_null_migrants"
   ]
  }
 ],
 "metadata": {
  "hide_input": false,
  "kernelspec": {
   "display_name": "Python 3 (ipykernel)",
   "language": "python",
   "name": "python3"
  },
  "language_info": {
   "codemirror_mode": {
    "name": "ipython",
    "version": 3
   },
   "file_extension": ".py",
   "mimetype": "text/x-python",
   "name": "python",
   "nbconvert_exporter": "python",
   "pygments_lexer": "ipython3",
   "version": "3.9.6"
  },
  "latex_envs": {
   "LaTeX_envs_menu_present": true,
   "autoclose": true,
   "autocomplete": true,
   "bibliofile": "biblio.bib",
   "cite_by": "apalike",
   "current_citInitial": 1,
   "eqLabelWithNumbers": true,
   "eqNumInitial": 1,
   "hotkeys": {
    "equation": "Ctrl-E",
    "itemize": "Ctrl-I"
   },
   "labels_anchors": false,
   "latex_user_defs": false,
   "report_style_numbering": true,
   "user_envs_cfg": true
  },
  "nbTranslate": {
   "displayLangs": [
    "*"
   ],
   "hotkey": "alt-t",
   "langInMainMenu": true,
   "sourceLang": "en",
   "targetLang": "fr",
   "useGoogleTranslate": true
  },
  "toc": {
   "base_numbering": 1,
   "nav_menu": {},
   "number_sections": true,
   "sideBar": true,
   "skip_h1_title": false,
   "title_cell": "Table of Contents",
   "title_sidebar": "Contents",
   "toc_cell": false,
   "toc_position": {},
   "toc_section_display": true,
   "toc_window_display": false
  },
  "varInspector": {
   "cols": {
    "lenName": 16,
    "lenType": 16,
    "lenVar": 40
   },
   "kernels_config": {
    "python": {
     "delete_cmd_postfix": "",
     "delete_cmd_prefix": "del ",
     "library": "var_list.py",
     "varRefreshCmd": "print(var_dic_list())"
    },
    "r": {
     "delete_cmd_postfix": ") ",
     "delete_cmd_prefix": "rm(",
     "library": "var_list.r",
     "varRefreshCmd": "cat(var_dic_list()) "
    }
   },
   "position": {
    "height": "144.222px",
    "left": "1175.67px",
    "right": "20px",
    "top": "117px",
    "width": "350px"
   },
   "types_to_exclude": [
    "module",
    "function",
    "builtin_function_or_method",
    "instance",
    "_Feature"
   ],
   "window_display": true
  }
 },
 "nbformat": 4,
 "nbformat_minor": 5
}
